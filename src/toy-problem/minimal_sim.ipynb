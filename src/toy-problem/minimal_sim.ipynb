{
 "cells": [
  {
   "cell_type": "markdown",
   "metadata": {},
   "source": [
    "# Pitch Prediction Simulation\n",
    "\n",
    "Starting with a simple 2dof manipulator on a vehicle that is passive in pitch.\n",
    "\n",
    "Created 3/29/22 by Hannah Kolano\n",
    "\n",
    "\n",
    "## Progress\n",
    "\n",
    "3/29/22: Created a URDF of the toy problem. Checked that it looks like a triple pendulum under gravity.\n",
    "\n",
    "### To Do\n",
    "\n",
    "- implement gravity on everything and buoyancy on the vehicle\n",
    "\n",
    "- Generate random trajectories for the manipulator\n",
    "\n"
   ]
  },
  {
   "cell_type": "code",
   "execution_count": 29,
   "metadata": {},
   "outputs": [
    {
     "name": "stdout",
     "output_type": "stream",
     "text": [
      "Libraries imported.\n"
     ]
    },
    {
     "name": "stderr",
     "output_type": "stream",
     "text": [
      "WARNING: replacing module PDCtlr.\n"
     ]
    }
   ],
   "source": [
    "using RigidBodyDynamics\n",
    "using LinearAlgebra\n",
    "using StaticArrays\n",
    "using MeshCat\n",
    "using MeshCatMechanisms\n",
    "using MechanismGeometries\n",
    "using CoordinateTransformations\n",
    "using GeometryBasics\n",
    "using Revise\n",
    "\n",
    "using PitchPrediction\n",
    "\n",
    "src_dir = dirname(pathof(PitchPrediction))\n",
    "urdf_file = joinpath(src_dir, \"..\", \"urdf\", \"toy_vehicle.urdf\")\n",
    "ctlr_file = joinpath(src_dir, \"toy-problem\", \"PDCtlr.jl\")\n",
    "include(ctlr_file)\n",
    "# using .PDCtlr\n",
    "# revise(PDCtlr)\n",
    "\n",
    "println(\"Libraries imported.\")"
   ]
  },
  {
   "cell_type": "code",
   "execution_count": 30,
   "metadata": {},
   "outputs": [
    {
     "name": "stderr",
     "output_type": "stream",
     "text": [
      "┌ Info: MeshCat server started. You can open the visualizer by visiting the following URL in your browser:\n",
      "│ http://127.0.0.1:8704\n",
      "└ @ MeshCat C:\\Users\\hkola\\.julia\\packages\\MeshCat\\oC0sL\\src\\visualizer.jl:73\n"
     ]
    },
    {
     "data": {
      "text/html": [
       "    <div style=\"height: 500px; width: 100%; overflow-x: auto; overflow-y: hidden; resize: both\">\n",
       "    <iframe src=\"http://127.0.0.1:8704\" style=\"width: 100%; height: 100%; border: none\"></iframe>\n",
       "    </div>\n"
      ],
      "text/plain": [
       "MeshCat.DisplayedVisualizer(MeshCat.CoreVisualizer(MeshCat.SceneTrees.SceneNode(nothing, nothing, Dict{String, Vector{UInt8}}(), nothing, Dict{String, MeshCat.SceneTrees.SceneNode}(\"meshcat\" => MeshCat.SceneTrees.SceneNode(nothing, nothing, Dict{String, Vector{UInt8}}(), nothing, Dict{String, MeshCat.SceneTrees.SceneNode}(\"toy\" => MeshCat.SceneTrees.SceneNode(nothing, nothing, Dict{String, Vector{UInt8}}(), nothing, Dict{String, MeshCat.SceneTrees.SceneNode}(\"world\" => MeshCat.SceneTrees.SceneNode(nothing, nothing, Dict{String, Vector{UInt8}}(), nothing, Dict{String, MeshCat.SceneTrees.SceneNode}(\"vehicle\" => MeshCat.SceneTrees.SceneNode(nothing, UInt8[0x83, 0xa6, 0x6d, 0x61, 0x74, 0x72, 0x69, 0x78, 0xc7, 0x40  …  0x6c, 0x64, 0x2f, 0x76, 0x65, 0x68, 0x69, 0x63, 0x6c, 0x65], Dict{String, Vector{UInt8}}(), nothing, Dict{String, MeshCat.SceneTrees.SceneNode}(\"after_LBarJoint\" => MeshCat.SceneTrees.SceneNode(nothing, UInt8[0x83, 0xa6, 0x6d, 0x61, 0x74, 0x72, 0x69, 0x78, 0xc7, 0x40  …  0x5f, 0x4c, 0x42, 0x61, 0x72, 0x4a, 0x6f, 0x69, 0x6e, 0x74], Dict{String, Vector{UInt8}}(), nothing, Dict{String, MeshCat.SceneTrees.SceneNode}(\"geometry_13\" => MeshCat.SceneTrees.SceneNode(UInt8[0x83, 0xa6, 0x6f, 0x62, 0x6a, 0x65, 0x63, 0x74, 0x84, 0xaa  …  0x65, 0x6f, 0x6d, 0x65, 0x74, 0x72, 0x79, 0x5f, 0x31, 0x33], UInt8[0x83, 0xa6, 0x6d, 0x61, 0x74, 0x72, 0x69, 0x78, 0xc7, 0x40  …  0x65, 0x6f, 0x6d, 0x65, 0x74, 0x72, 0x79, 0x5f, 0x31, 0x33], Dict{String, Vector{UInt8}}(), nothing, Dict{String, MeshCat.SceneTrees.SceneNode}()))), \"after_fbump_link\" => MeshCat.SceneTrees.SceneNode(nothing, UInt8[0x83, 0xa6, 0x6d, 0x61, 0x74, 0x72, 0x69, 0x78, 0xc7, 0x40  …  0x66, 0x62, 0x75, 0x6d, 0x70, 0x5f, 0x6c, 0x69, 0x6e, 0x6b], Dict{String, Vector{UInt8}}(), nothing, Dict{String, MeshCat.SceneTrees.SceneNode}(\"geometry_4\" => MeshCat.SceneTrees.SceneNode(UInt8[0x83, 0xa6, 0x6f, 0x62, 0x6a, 0x65, 0x63, 0x74, 0x84, 0xaa  …  0x67, 0x65, 0x6f, 0x6d, 0x65, 0x74, 0x72, 0x79, 0x5f, 0x34], UInt8[0x83, 0xa6, 0x6d, 0x61, 0x74, 0x72, 0x69, 0x78, 0xc7, 0x40  …  0x67, 0x65, 0x6f, 0x6d, 0x65, 0x74, 0x72, 0x79, 0x5f, 0x34], Dict{String, Vector{UInt8}}(), nothing, Dict{String, MeshCat.SceneTrees.SceneNode}()))), \"after_RBarJoint\" => MeshCat.SceneTrees.SceneNode(nothing, UInt8[0x83, 0xa6, 0x6d, 0x61, 0x74, 0x72, 0x69, 0x78, 0xc7, 0x40  …  0x5f, 0x52, 0x42, 0x61, 0x72, 0x4a, 0x6f, 0x69, 0x6e, 0x74], Dict{String, Vector{UInt8}}(), nothing, Dict{String, MeshCat.SceneTrees.SceneNode}(\"geometry_12\" => MeshCat.SceneTrees.SceneNode(UInt8[0x83, 0xa6, 0x6f, 0x62, 0x6a, 0x65, 0x63, 0x74, 0x84, 0xaa  …  0x65, 0x6f, 0x6d, 0x65, 0x74, 0x72, 0x79, 0x5f, 0x31, 0x32], UInt8[0x83, 0xa6, 0x6d, 0x61, 0x74, 0x72, 0x69, 0x78, 0xc7, 0x40  …  0x65, 0x6f, 0x6d, 0x65, 0x74, 0x72, 0x79, 0x5f, 0x31, 0x32], Dict{String, Vector{UInt8}}(), nothing, Dict{String, MeshCat.SceneTrees.SceneNode}()))), \"after_r_arrow_link\" => MeshCat.SceneTrees.SceneNode(nothing, UInt8[0x83, 0xa6, 0x6d, 0x61, 0x74, 0x72, 0x69, 0x78, 0xc7, 0x40  …  0x61, 0x72, 0x72, 0x6f, 0x77, 0x5f, 0x6c, 0x69, 0x6e, 0x6b], Dict{String, Vector{UInt8}}(), nothing, Dict{String, MeshCat.SceneTrees.SceneNode}(\"geometry_7\" => MeshCat.SceneTrees.SceneNode(UInt8[0x83, 0xa6, 0x6f, 0x62, 0x6a, 0x65, 0x63, 0x74, 0x84, 0xaa  …  0x67, 0x65, 0x6f, 0x6d, 0x65, 0x74, 0x72, 0x79, 0x5f, 0x37], UInt8[0x83, 0xa6, 0x6d, 0x61, 0x74, 0x72, 0x69, 0x78, 0xc7, 0x40  …  0x67, 0x65, 0x6f, 0x6d, 0x65, 0x74, 0x72, 0x79, 0x5f, 0x37], Dict{String, Vector{UInt8}}(), nothing, Dict{String, MeshCat.SceneTrees.SceneNode}()))), \"after_BRBarJoint\" => MeshCat.SceneTrees.SceneNode(nothing, UInt8[0x83, 0xa6, 0x6d, 0x61, 0x74, 0x72, 0x69, 0x78, 0xc7, 0x40  …  0x42, 0x52, 0x42, 0x61, 0x72, 0x4a, 0x6f, 0x69, 0x6e, 0x74], Dict{String, Vector{UInt8}}(), nothing, Dict{String, MeshCat.SceneTrees.SceneNode}(\"geometry_11\" => MeshCat.SceneTrees.SceneNode(UInt8[0x83, 0xa6, 0x6f, 0x62, 0x6a, 0x65, 0x63, 0x74, 0x84, 0xaa  …  0x65, 0x6f, 0x6d, 0x65, 0x74, 0x72, 0x79, 0x5f, 0x31, 0x31], UInt8[0x83, 0xa6, 0x6d, 0x61, 0x74, 0x72, 0x69, 0x78, 0xc7, 0x40  …  0x65, 0x6f, 0x6d, 0x65, 0x74, 0x72, 0x79, 0x5f, 0x31, 0x31], Dict{String, Vector{UInt8}}(), nothing, Dict{String, MeshCat.SceneTrees.SceneNode}()))), \"after_FLBarJoint\" => MeshCat.SceneTrees.SceneNode(nothing, UInt8[0x83, 0xa6, 0x6d, 0x61, 0x74, 0x72, 0x69, 0x78, 0xc7, 0x40  …  0x46, 0x4c, 0x42, 0x61, 0x72, 0x4a, 0x6f, 0x69, 0x6e, 0x74], Dict{String, Vector{UInt8}}(), nothing, Dict{String, MeshCat.SceneTrees.SceneNode}(\"geometry_9\" => MeshCat.SceneTrees.SceneNode(UInt8[0x83, 0xa6, 0x6f, 0x62, 0x6a, 0x65, 0x63, 0x74, 0x84, 0xaa  …  0x67, 0x65, 0x6f, 0x6d, 0x65, 0x74, 0x72, 0x79, 0x5f, 0x39], UInt8[0x83, 0xa6, 0x6d, 0x61, 0x74, 0x72, 0x69, 0x78, 0xc7, 0x40  …  0x67, 0x65, 0x6f, 0x6d, 0x65, 0x74, 0x72, 0x79, 0x5f, 0x39], Dict{String, Vector{UInt8}}(), nothing, Dict{String, MeshCat.SceneTrees.SceneNode}()))), \"after_pitch_joint\" => MeshCat.SceneTrees.SceneNode(nothing, UInt8[0x83, 0xa6, 0x6d, 0x61, 0x74, 0x72, 0x69, 0x78, 0xc7, 0x40  …  0x69, 0x74, 0x63, 0x68, 0x5f, 0x6a, 0x6f, 0x69, 0x6e, 0x74], Dict{String, Vector{UInt8}}(), nothing, Dict{String, MeshCat.SceneTrees.SceneNode}(\"geometry_1\" => MeshCat.SceneTrees.SceneNode(UInt8[0x83, 0xa6, 0x6f, 0x62, 0x6a, 0x65, 0x63, 0x74, 0x84, 0xaa  …  0x67, 0x65, 0x6f, 0x6d, 0x65, 0x74, 0x72, 0x79, 0x5f, 0x31], UInt8[0x83, 0xa6, 0x6d, 0x61, 0x74, 0x72, 0x69, 0x78, 0xc7, 0x40  …  0x67, 0x65, 0x6f, 0x6d, 0x65, 0x74, 0x72, 0x79, 0x5f, 0x31], Dict{String, Vector{UInt8}}(), nothing, Dict{String, MeshCat.SceneTrees.SceneNode}()))), \"after_BLBarJoint\" => MeshCat.SceneTrees.SceneNode(nothing, UInt8[0x83, 0xa6, 0x6d, 0x61, 0x74, 0x72, 0x69, 0x78, 0xc7, 0x40  …  0x42, 0x4c, 0x42, 0x61, 0x72, 0x4a, 0x6f, 0x69, 0x6e, 0x74], Dict{String, Vector{UInt8}}(), nothing, Dict{String, MeshCat.SceneTrees.SceneNode}(\"geometry_10\" => MeshCat.SceneTrees.SceneNode(UInt8[0x83, 0xa6, 0x6f, 0x62, 0x6a, 0x65, 0x63, 0x74, 0x84, 0xaa  …  0x65, 0x6f, 0x6d, 0x65, 0x74, 0x72, 0x79, 0x5f, 0x31, 0x30], UInt8[0x83, 0xa6, 0x6d, 0x61, 0x74, 0x72, 0x69, 0x78, 0xc7, 0x40  …  0x65, 0x6f, 0x6d, 0x65, 0x74, 0x72, 0x79, 0x5f, 0x31, 0x30], Dict{String, Vector{UInt8}}(), nothing, Dict{String, MeshCat.SceneTrees.SceneNode}()))), \"after_rbump_link\" => MeshCat.SceneTrees.SceneNode(nothing, UInt8[0x83, 0xa6, 0x6d, 0x61, 0x74, 0x72, 0x69, 0x78, 0xc7, 0x40  …  0x72, 0x62, 0x75, 0x6d, 0x70, 0x5f, 0x6c, 0x69, 0x6e, 0x6b], Dict{String, Vector{UInt8}}(), nothing, Dict{String, MeshCat.SceneTrees.SceneNode}(\"geometry_5\" => MeshCat.SceneTrees.SceneNode(UInt8[0x83, 0xa6, 0x6f, 0x62, 0x6a, 0x65, 0x63, 0x74, 0x84, 0xaa  …  0x67, 0x65, 0x6f, 0x6d, 0x65, 0x74, 0x72, 0x79, 0x5f, 0x35], UInt8[0x83, 0xa6, 0x6d, 0x61, 0x74, 0x72, 0x69, 0x78, 0xc7, 0x40  …  0x67, 0x65, 0x6f, 0x6d, 0x65, 0x74, 0x72, 0x79, 0x5f, 0x35], Dict{String, Vector{UInt8}}(), nothing, Dict{String, MeshCat.SceneTrees.SceneNode}()))), \"link1\" => MeshCat.SceneTrees.SceneNode(nothing, UInt8[0x83, 0xa6, 0x6d, 0x61, 0x74, 0x72, 0x69, 0x78, 0xc7, 0x40  …  0x69, 0x63, 0x6c, 0x65, 0x2f, 0x6c, 0x69, 0x6e, 0x6b, 0x31], Dict{String, Vector{UInt8}}(), nothing, Dict{String, MeshCat.SceneTrees.SceneNode}(\"after_joint1\" => MeshCat.SceneTrees.SceneNode(nothing, UInt8[0x83, 0xa6, 0x6d, 0x61, 0x74, 0x72, 0x69, 0x78, 0xc7, 0x40  …  0x74, 0x65, 0x72, 0x5f, 0x6a, 0x6f, 0x69, 0x6e, 0x74, 0x31], Dict{String, Vector{UInt8}}(), nothing, Dict{String, MeshCat.SceneTrees.SceneNode}(\"geometry_2\" => MeshCat.SceneTrees.SceneNode(UInt8[0x83, 0xa6, 0x6f, 0x62, 0x6a, 0x65, 0x63, 0x74, 0x84, 0xaa  …  0x67, 0x65, 0x6f, 0x6d, 0x65, 0x74, 0x72, 0x79, 0x5f, 0x32], UInt8[0x83, 0xa6, 0x6d, 0x61, 0x74, 0x72, 0x69, 0x78, 0xc7, 0x40  …  0x67, 0x65, 0x6f, 0x6d, 0x65, 0x74, 0x72, 0x79, 0x5f, 0x32], Dict{String, Vector{UInt8}}(), nothing, Dict{String, MeshCat.SceneTrees.SceneNode}()))), \"link2\" => MeshCat.SceneTrees.SceneNode(nothing, UInt8[0x83, 0xa6, 0x6d, 0x61, 0x74, 0x72, 0x69, 0x78, 0xc7, 0x40  …  0x69, 0x6e, 0x6b, 0x31, 0x2f, 0x6c, 0x69, 0x6e, 0x6b, 0x32], Dict{String, Vector{UInt8}}(), nothing, Dict{String, MeshCat.SceneTrees.SceneNode}(\"after_joint2\" => MeshCat.SceneTrees.SceneNode(nothing, UInt8[0x83, 0xa6, 0x6d, 0x61, 0x74, 0x72, 0x69, 0x78, 0xc7, 0x40  …  0x74, 0x65, 0x72, 0x5f, 0x6a, 0x6f, 0x69, 0x6e, 0x74, 0x32], Dict{String, Vector{UInt8}}(), nothing, Dict{String, MeshCat.SceneTrees.SceneNode}(\"geometry_3\" => MeshCat.SceneTrees.SceneNode(UInt8[0x83, 0xa6, 0x6f, 0x62, 0x6a, 0x65, 0x63, 0x74, 0x84, 0xaa  …  0x67, 0x65, 0x6f, 0x6d, 0x65, 0x74, 0x72, 0x79, 0x5f, 0x33], UInt8[0x83, 0xa6, 0x6d, 0x61, 0x74, 0x72, 0x69, 0x78, 0xc7, 0x40  …  0x67, 0x65, 0x6f, 0x6d, 0x65, 0x74, 0x72, 0x79, 0x5f, 0x33], Dict{String, Vector{UInt8}}(), nothing, Dict{String, MeshCat.SceneTrees.SceneNode}())))))))…)))))))))), Set{Any}(), ip\"127.0.0.1\", 8704))"
      ]
     },
     "metadata": {},
     "output_type": "display_data"
    }
   ],
   "source": [
    "vis = Visualizer()\n",
    "mechanism_toy = parse_urdf(urdf_file; gravity = [0.0, 0.0, -9.81])\n",
    "\n",
    "delete!(vis)\n",
    "visuals = URDFVisuals(urdf_file)\n",
    "mvis_toy = MechanismVisualizer(mechanism_toy, URDFVisuals(urdf_file), vis[:toy])\n",
    "\n",
    "render(mvis_toy)"
   ]
  },
  {
   "cell_type": "code",
   "execution_count": 32,
   "metadata": {},
   "outputs": [
    {
     "ename": "MethodError",
     "evalue": "MethodError: no method matching -(::Float64, ::Vector{Float64})\nFor element-wise subtraction, use broadcasting with dot syntax: scalar .- array\nClosest candidates are:\n  -(!Matched::StaticArray, ::AbstractArray) at C:\\Users\\hkola\\.julia\\packages\\StaticArrays\\0T5rI\\src\\linalg.jl:18\n  -(!Matched::ChainRulesCore.AbstractThunk, ::Any) at C:\\Users\\hkola\\.julia\\packages\\ChainRulesCore\\GUvJT\\src\\tangent_types\\thunks.jl:30\n  -(!Matched::SparseArrays.AbstractSparseMatrixCSC, ::Array) at C:\\buildbot\\worker\\package_win64\\build\\usr\\share\\julia\\stdlib\\v1.6\\SparseArrays\\src\\sparsematrix.jl:1746\n  ...",
     "output_type": "error",
     "traceback": [
      "MethodError: no method matching -(::Float64, ::Vector{Float64})\n",
      "For element-wise subtraction, use broadcasting with dot syntax: scalar .- array\n",
      "Closest candidates are:\n",
      "  -(!Matched::StaticArray, ::AbstractArray) at C:\\Users\\hkola\\.julia\\packages\\StaticArrays\\0T5rI\\src\\linalg.jl:18\n",
      "  -(!Matched::ChainRulesCore.AbstractThunk, ::Any) at C:\\Users\\hkola\\.julia\\packages\\ChainRulesCore\\GUvJT\\src\\tangent_types\\thunks.jl:30\n",
      "  -(!Matched::SparseArrays.AbstractSparseMatrixCSC, ::Array) at C:\\buildbot\\worker\\package_win64\\build\\usr\\share\\julia\\stdlib\\v1.6\\SparseArrays\\src\\sparsematrix.jl:1746\n",
      "  ...\n",
      "\n",
      "Stacktrace:\n",
      "  [1] pd_control!(torques::SegmentedVector{JointID, Float64, Base.OneTo{JointID}, Vector{Float64}}, t::Float64, state::MechanismState{Float64, Float64, Float64, TypeSortedCollections.TypeSortedCollection{Tuple{Vector{Joint{Float64, Revolute{Float64}}}}, 1}}; time_step_ctr::Int64, joint_vec::Vector{Joint{Float64, Revolute{Float64}}})\n",
      "    @ Main.PDCtlr c:\\Users\\hkola\\Stuff\\_ONR\\RNNs for pitch prediction\\PitchPrediction\\src\\toy-problem\\PDCtlr.jl:60\n",
      "  [2] pd_control!(torques::SegmentedVector{JointID, Float64, Base.OneTo{JointID}, Vector{Float64}}, t::Float64, state::MechanismState{Float64, Float64, Float64, TypeSortedCollections.TypeSortedCollection{Tuple{Vector{Joint{Float64, Revolute{Float64}}}}, 1}})\n",
      "    @ Main.PDCtlr c:\\Users\\hkola\\Stuff\\_ONR\\RNNs for pitch prediction\\PitchPrediction\\src\\toy-problem\\PDCtlr.jl:48\n",
      "  [3] (::RigidBodyDynamics.var\"#116#117\"{typeof(Main.PDCtlr.pd_control!), DynamicsResult{Float64, Float64}, SegmentedVector{JointID, Float64, Base.OneTo{JointID}, Vector{Float64}}, RigidBodyDynamics.CustomCollections.ConstDict{JointID, RigidBodyDynamics.PDControl.SE3PDGains{RigidBodyDynamics.PDControl.PDGains{Float64, Float64}, RigidBodyDynamics.PDControl.PDGains{Float64, Float64}}}})(v̇::SegmentedVector{JointID, Float64, Base.OneTo{JointID}, Vector{Float64}}, ṡ::Vector{Float64}, t::Float64, state::MechanismState{Float64, Float64, Float64, TypeSortedCollections.TypeSortedCollection{Tuple{Vector{Joint{Float64, Revolute{Float64}}}}, 1}})\n",
      "    @ RigidBodyDynamics C:\\Users\\hkola\\.julia\\packages\\RigidBodyDynamics\\8B04X\\src\\simulate.jl:43\n",
      "  [4] step(integrator::RigidBodyDynamics.OdeIntegrators.MuntheKaasIntegrator{4, Float64, RigidBodyDynamics.var\"#116#117\"{typeof(Main.PDCtlr.pd_control!), DynamicsResult{Float64, Float64}, SegmentedVector{JointID, Float64, Base.OneTo{JointID}, Vector{Float64}}, RigidBodyDynamics.CustomCollections.ConstDict{JointID, RigidBodyDynamics.PDControl.SE3PDGains{RigidBodyDynamics.PDControl.PDGains{Float64, Float64}, RigidBodyDynamics.PDControl.PDGains{Float64, Float64}}}}, RigidBodyDynamics.OdeIntegrators.ExpandingStorage{Float64, SegmentedVector{JointID, Float64, Base.OneTo{JointID}, Vector{Float64}}, SegmentedVector{JointID, Float64, Base.OneTo{JointID}, Vector{Float64}}}, MechanismState{Float64, Float64, Float64, TypeSortedCollections.TypeSortedCollection{Tuple{Vector{Joint{Float64, Revolute{Float64}}}}, 1}}, 16, RigidBodyDynamics.OdeIntegrators.MuntheKaasStageCache{4, Float64, SegmentedVector{JointID, Float64, Base.OneTo{JointID}, Vector{Float64}}, SegmentedVector{JointID, Float64, Base.OneTo{JointID}, Vector{Float64}}, Vector{Float64}}}, t::Float64, Δt::Float64)\n",
      "    @ RigidBodyDynamics.OdeIntegrators C:\\Users\\hkola\\.julia\\packages\\RigidBodyDynamics\\8B04X\\src\\ode_integrators.jl:273\n",
      "  [5] macro expansion\n",
      "    @ C:\\Users\\hkola\\.julia\\packages\\RigidBodyDynamics\\8B04X\\src\\ode_integrators.jl:312 [inlined]\n",
      "  [6] macro expansion\n",
      "    @ C:\\Users\\hkola\\.julia\\packages\\LoopThrottle\\Wpdca\\src\\LoopThrottle.jl:89 [inlined]\n",
      "  [7] integrate(integrator::RigidBodyDynamics.OdeIntegrators.MuntheKaasIntegrator{4, Float64, RigidBodyDynamics.var\"#116#117\"{typeof(Main.PDCtlr.pd_control!), DynamicsResult{Float64, Float64}, SegmentedVector{JointID, Float64, Base.OneTo{JointID}, Vector{Float64}}, RigidBodyDynamics.CustomCollections.ConstDict{JointID, RigidBodyDynamics.PDControl.SE3PDGains{RigidBodyDynamics.PDControl.PDGains{Float64, Float64}, RigidBodyDynamics.PDControl.PDGains{Float64, Float64}}}}, RigidBodyDynamics.OdeIntegrators.ExpandingStorage{Float64, SegmentedVector{JointID, Float64, Base.OneTo{JointID}, Vector{Float64}}, SegmentedVector{JointID, Float64, Base.OneTo{JointID}, Vector{Float64}}}, MechanismState{Float64, Float64, Float64, TypeSortedCollections.TypeSortedCollection{Tuple{Vector{Joint{Float64, Revolute{Float64}}}}, 1}}, 16, RigidBodyDynamics.OdeIntegrators.MuntheKaasStageCache{4, Float64, SegmentedVector{JointID, Float64, Base.OneTo{JointID}, Vector{Float64}}, SegmentedVector{JointID, Float64, Base.OneTo{JointID}, Vector{Float64}}, Vector{Float64}}}, final_time::Float64, Δt::Float64; max_realtime_rate::Float64)\n",
      "    @ RigidBodyDynamics.OdeIntegrators C:\\Users\\hkola\\.julia\\packages\\RigidBodyDynamics\\8B04X\\src\\ode_integrators.jl:311\n",
      "  [8] integrate(integrator::RigidBodyDynamics.OdeIntegrators.MuntheKaasIntegrator{4, Float64, RigidBodyDynamics.var\"#116#117\"{typeof(Main.PDCtlr.pd_control!), DynamicsResult{Float64, Float64}, SegmentedVector{JointID, Float64, Base.OneTo{JointID}, Vector{Float64}}, RigidBodyDynamics.CustomCollections.ConstDict{JointID, RigidBodyDynamics.PDControl.SE3PDGains{RigidBodyDynamics.PDControl.PDGains{Float64, Float64}, RigidBodyDynamics.PDControl.PDGains{Float64, Float64}}}}, RigidBodyDynamics.OdeIntegrators.ExpandingStorage{Float64, SegmentedVector{JointID, Float64, Base.OneTo{JointID}, Vector{Float64}}, SegmentedVector{JointID, Float64, Base.OneTo{JointID}, Vector{Float64}}}, MechanismState{Float64, Float64, Float64, TypeSortedCollections.TypeSortedCollection{Tuple{Vector{Joint{Float64, Revolute{Float64}}}}, 1}}, 16, RigidBodyDynamics.OdeIntegrators.MuntheKaasStageCache{4, Float64, SegmentedVector{JointID, Float64, Base.OneTo{JointID}, Vector{Float64}}, SegmentedVector{JointID, Float64, Base.OneTo{JointID}, Vector{Float64}}, Vector{Float64}}}, final_time::Float64, Δt::Float64)\n",
      "    @ RigidBodyDynamics.OdeIntegrators C:\\Users\\hkola\\.julia\\packages\\RigidBodyDynamics\\8B04X\\src\\ode_integrators.jl:308\n",
      "  [9] simulate(state0::MechanismState{Float64, Float64, Float64, TypeSortedCollections.TypeSortedCollection{Tuple{Vector{Joint{Float64, Revolute{Float64}}}}, 1}}, final_time::Float64, control!::typeof(Main.PDCtlr.pd_control!); Δt::Float64, stabilization_gains::RigidBodyDynamics.CustomCollections.ConstDict{JointID, RigidBodyDynamics.PDControl.SE3PDGains{RigidBodyDynamics.PDControl.PDGains{Float64, Float64}, RigidBodyDynamics.PDControl.PDGains{Float64, Float64}}})\n",
      "    @ RigidBodyDynamics C:\\Users\\hkola\\.julia\\packages\\RigidBodyDynamics\\8B04X\\src\\simulate.jl:53\n",
      " [10] top-level scope\n",
      "    @ c:\\Users\\hkola\\Stuff\\_ONR\\RNNs for pitch prediction\\PitchPrediction\\src\\toy-problem\\minimal_sim.ipynb:13\n",
      " [11] eval\n",
      "    @ .\\boot.jl:360 [inlined]\n",
      " [12] include_string(mapexpr::typeof(REPL.softscope), mod::Module, code::String, filename::String)\n",
      "    @ Base .\\loading.jl:1116\n",
      " [13] #invokelatest#2\n",
      "    @ .\\essentials.jl:708 [inlined]\n",
      " [14] invokelatest\n",
      "    @ .\\essentials.jl:706 [inlined]\n",
      " [15] (::VSCodeServer.var\"#160#161\"{VSCodeServer.NotebookRunCellArguments, String})()\n",
      "    @ VSCodeServer c:\\Users\\hkola\\.vscode\\extensions\\julialang.language-julia-1.6.17\\scripts\\packages\\VSCodeServer\\src\\serve_notebook.jl:19\n",
      " [16] withpath(f::VSCodeServer.var\"#160#161\"{VSCodeServer.NotebookRunCellArguments, String}, path::String)\n",
      "    @ VSCodeServer c:\\Users\\hkola\\.vscode\\extensions\\julialang.language-julia-1.6.17\\scripts\\packages\\VSCodeServer\\src\\repl.jl:184\n",
      " [17] notebook_runcell_request(conn::VSCodeServer.JSONRPC.JSONRPCEndpoint{Base.PipeEndpoint, Base.PipeEndpoint}, params::VSCodeServer.NotebookRunCellArguments)\n",
      "    @ VSCodeServer c:\\Users\\hkola\\.vscode\\extensions\\julialang.language-julia-1.6.17\\scripts\\packages\\VSCodeServer\\src\\serve_notebook.jl:13\n",
      " [18] dispatch_msg(x::VSCodeServer.JSONRPC.JSONRPCEndpoint{Base.PipeEndpoint, Base.PipeEndpoint}, dispatcher::VSCodeServer.JSONRPC.MsgDispatcher, msg::Dict{String, Any})\n",
      "    @ VSCodeServer.JSONRPC c:\\Users\\hkola\\.vscode\\extensions\\julialang.language-julia-1.6.17\\scripts\\packages\\JSONRPC\\src\\typed.jl:67\n",
      " [19] serve_notebook(pipename::String, outputchannel_logger::Base.CoreLogging.SimpleLogger; crashreporting_pipename::String)\n",
      "    @ VSCodeServer c:\\Users\\hkola\\.vscode\\extensions\\julialang.language-julia-1.6.17\\scripts\\packages\\VSCodeServer\\src\\serve_notebook.jl:136\n",
      " [20] top-level scope\n",
      "    @ c:\\Users\\hkola\\.vscode\\extensions\\julialang.language-julia-1.6.17\\scripts\\notebook\\notebook.jl:32\n",
      " [21] include(mod::Module, _path::String)\n",
      "    @ Base .\\Base.jl:384\n",
      " [22] exec_options(opts::Base.JLOptions)\n",
      "    @ Base .\\client.jl:285\n",
      " [23] _start()\n",
      "    @ Base .\\client.jl:485"
     ]
    }
   ],
   "source": [
    "# Initialize the mechanism state\n",
    "state = MechanismState(mechanism_toy)\n",
    "\n",
    "# Set initial position \n",
    "free_joint, joint1, joint2 = joints(mechanism_toy)\n",
    "zero!(state)\n",
    "set_configuration!(state, joint1, 0)\n",
    "\n",
    "# Set up the controller \n",
    "Δt = 1e-3\n",
    "PDCtlr.ctlr_setup(mechanism_toy, state; time_step=Δt)\n",
    "\n",
    "ts, qs, vs = simulate(state, 5.0, PDCtlr.pd_control!; Δt);"
   ]
  },
  {
   "cell_type": "code",
   "execution_count": 33,
   "metadata": {},
   "outputs": [],
   "source": [
    "# render(mvis_toy)\n",
    "MeshCatMechanisms.animate(mvis_toy, ts, qs; realtimerate = 1.);"
   ]
  },
  {
   "cell_type": "code",
   "execution_count": 34,
   "metadata": {},
   "outputs": [],
   "source": []
  }
 ],
 "metadata": {
  "kernelspec": {
   "display_name": "Julia 1.6.6",
   "language": "julia",
   "name": "julia-1.6"
  },
  "language_info": {
   "file_extension": ".jl",
   "mimetype": "application/julia",
   "name": "julia",
   "version": "1.6.6"
  },
  "orig_nbformat": 4
 },
 "nbformat": 4,
 "nbformat_minor": 2
}
